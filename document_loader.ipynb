{
 "cells": [
  {
   "cell_type": "markdown",
   "metadata": {},
   "source": [
    "Document Loaders in Langchain\n",
    "<!--\n",
    "Document is considered as a peice of information that contains useful information.The documents can be in form of .txt file,csv file,image,video,etc.\n",
    "So here we will learn about document loaders which is mainly used for loading the data from source to required destination within the memory.\n",
    "  -->"
   ]
  },
  {
   "cell_type": "markdown",
   "metadata": {},
   "source": [
    "PDF LOADER"
   ]
  },
  {
   "cell_type": "code",
   "execution_count": 1,
   "metadata": {},
   "outputs": [
    {
     "name": "stdout",
     "output_type": "stream",
     "text": [
      "Collecting pypdf\n",
      "  Downloading pypdf-3.17.4-py3-none-any.whl.metadata (7.5 kB)\n",
      "Requirement already satisfied: typing_extensions>=3.7.4.3 in c:\\users\\lenovo\\desktop\\langchain\\venv\\lib\\site-packages (from pypdf) (4.9.0)\n",
      "Downloading pypdf-3.17.4-py3-none-any.whl (278 kB)\n",
      "   ---------------------------------------- 0.0/278.2 kB ? eta -:--:--\n",
      "   ---- ----------------------------------- 30.7/278.2 kB 1.3 MB/s eta 0:00:01\n",
      "   ---- ----------------------------------- 30.7/278.2 kB 1.3 MB/s eta 0:00:01\n",
      "   -------- ------------------------------ 61.4/278.2 kB 409.6 kB/s eta 0:00:01\n",
      "   ------------ -------------------------- 92.2/278.2 kB 476.3 kB/s eta 0:00:01\n",
      "   ---------------- --------------------- 122.9/278.2 kB 514.3 kB/s eta 0:00:01\n",
      "   ---------------------- --------------- 163.8/278.2 kB 577.4 kB/s eta 0:00:01\n",
      "   --------------------------- ---------- 204.8/278.2 kB 621.6 kB/s eta 0:00:01\n",
      "   -------------------------------------  276.5/278.2 kB 739.6 kB/s eta 0:00:01\n",
      "   -------------------------------------- 278.2/278.2 kB 714.5 kB/s eta 0:00:00\n",
      "Installing collected packages: pypdf\n",
      "Successfully installed pypdf-3.17.4\n"
     ]
    }
   ],
   "source": [
    "!pip install pypdf"
   ]
  },
  {
   "cell_type": "code",
   "execution_count": 3,
   "metadata": {},
   "outputs": [
    {
     "data": {
      "text/plain": [
       "<langchain_community.document_loaders.pdf.PyPDFLoader at 0x1f386f310d0>"
      ]
     },
     "execution_count": 3,
     "metadata": {},
     "output_type": "execute_result"
    }
   ],
   "source": [
    "from langchain.document_loaders import PyPDFLoader\n",
    "\n",
    "loader=PyPDFLoader(r\"C:\\Users\\LENOVO\\Documents\\case_report.pdf\")\n",
    "\n",
    "loader"
   ]
  },
  {
   "cell_type": "code",
   "execution_count": 5,
   "metadata": {},
   "outputs": [
    {
     "data": {
      "text/plain": [
       "[Document(page_content='Prof. Shahegul Afroz GAME-BASED LEARNING USING ARTIFICIAL \\nINTELLIGENCE       \\n(CASE STUDY)', metadata={'source': 'C:\\\\Users\\\\LENOVO\\\\Documents\\\\case_report.pdf', 'page': 0}),\n",
       " Document(page_content='PAGE 1 CASE STUDY ON GAME-BASED LEARNING USING \\nARTIFICIAL INTELLIGENCE \\n \\nABSTRACT \\nIn 21st Century, through the E-learning, students can be fostered the abilities of \\ncritical thinking and skills of problem solving. Resulting from this learning, learners \\ncan apply their learned knowledge in daily problem solving and can create a new \\nattitude to their living. This study is to develop a new computer Role-Playing Game \\n(RPG). In the game, it will blend the ideas of RPG and theory of Problem-Based \\nLearning (PBL), which leads the players to develop their learning strategy and \\nstrengthen their problem solving ability. The spectrum ideas of this game will focus \\non the daily life problems and common knowledge. In a RPG, the player can use \\nlearned knowledge to solve problems.  We propose a new approach where \\napplications can be easily developed to play games. In our case, games are used as \\nsupport to teach programming and AI techniques, among other areas. A case study \\nis described, showing the overall principle and the design of an environment we \\ndeveloped on which students will work in building game player software that \\nincorporates specific AI algorithms to solve a given problem. \\n \\nINTRODUCTION \\nDigital games have a huge appeal towards students, who generally spend a large \\npart of their entertainment time playing games. Games can attract user attention in \\nmany different ways, right from playing games to designing and developing . Many \\nresearchers claim some kind of consensus status that games can motivate students, \\nprovides positive experiences and might be good incentive to Learning. But out \\nmajor target here is to emphasize on the Teaching learning Strategy. One major \\nexample being is the Rochester Institute of Technology, that uses game development \\nin early undergraduate computer science courses. The  RAPT program uses games \\nas an application area on top of a traditional CS curriculum in three initial courses \\nthat tech core topics in computer science , focusing in a real programming and \\ngames as complex software. Digital games could have a much bigger role in \\nlearning . Researches tried to analyze in what ways use combination of artificial \\nintelligence and games can be helpful in different learning context perspective. It \\ncan be used to track student performance through time trying to understand there’s \\nimprovement in the learning process or not.', metadata={'source': 'C:\\\\Users\\\\LENOVO\\\\Documents\\\\case_report.pdf', 'page': 1}),\n",
       " Document(page_content='PAGE 2   \\nRELATED WORK  \\nOne of the best known works in using game to teach CS is the RAPT program , which \\nbasically shows improvements in students who went through the program. The \\nRAPT experience shows that students do have a strong interest in using games and \\nfind the program material subjectively more satisfying than more regular ones. In \\nIndia, we have many such online coding platforms like Leetcode , hacker rank, which \\nbasically provides students improvement towards learning and provides \\nappropriate suggestions based on the history .  Crystal island , a game based \\nlearning environment designed to teach students micro biology to middle school \\nstudents by effectively utilizing narrative Design to create positive relationship \\nbetween learning and engagement with the game . Another great example to \\nunderstand here is AI algorithms to solve in game puzzles and help them apply in \\nreal world problem.   \\n \\nPROPOSED FRAMEWORKS  \\nOur focus is on using AI challenges to help students learn AI concepts, programming \\ntechniques and possibly image segmentation and pattern matching. There is need to \\nlearn different codes bases before getting assignment done. Here in case of \\nBejeweled game, to reach the proposed goal we build a hierarchy of modules .The \\nimplemented framework can be easily modified in order to accommodate other \\nsimilar games with fairly simple changes in the provided modules.', metadata={'source': 'C:\\\\Users\\\\LENOVO\\\\Documents\\\\case_report.pdf', 'page': 2}),\n",
       " Document(page_content='PAGE 3  \\n \\n \\n \\n \\n \\n \\n \\n \\nCASE STUDY RESULTS \\nA lot has been written about using games for learning purposes. In our case study \\nwe focused on use of AI. In order to accomplish this, we implemented to allow the \\ndevelopment of game by playing software. In our case study we discussed the design \\nof game based learning environment using Artificial Intelligence. We do have \\nevidence that when provided explicit support to incorporate prior knowledge and \\nskills into an AI learning experience,  students are adapt at leveraging their \\nknowledge to solve AI problems. While researching on this case study report we \\ncame across various pros and cons of game based learning using AI  and the \\nchallenges faced by the students. We understood that the game based learning \\nenvironment has to be designed effectively with respect to mathematical \\nrepresentation and understanding how AI systems operate. \\n \\nCONCLUSION \\nAn important aspect of any programming language is algorithm understanding and \\nproblem solving. Allowing students to learn through games and practice the \\nprogramming will definitely enhance learning process and increase Students \\ninterest . It will create a fun and engaging environment for the students eager to \\nlearn. Through this case study we showed that AI games could be used as a base to \\nimmersive learning experiences. Students performance and questions provided', metadata={'source': 'C:\\\\Users\\\\LENOVO\\\\Documents\\\\case_report.pdf', 'page': 3}),\n",
       " Document(page_content='PAGE 4 good insights and caused a great exchange of information. As a further work we will \\nstart working on how we can use use  AI to improve our teaching learning process.', metadata={'source': 'C:\\\\Users\\\\LENOVO\\\\Documents\\\\case_report.pdf', 'page': 4})]"
      ]
     },
     "execution_count": 5,
     "metadata": {},
     "output_type": "execute_result"
    }
   ],
   "source": [
    "pages=loader.load_and_split()\n",
    "pages"
   ]
  },
  {
   "cell_type": "markdown",
   "metadata": {},
   "source": [
    "TEXT LOADER"
   ]
  },
  {
   "cell_type": "code",
   "execution_count": 6,
   "metadata": {},
   "outputs": [
    {
     "data": {
      "text/plain": [
       "[Document(page_content='langchain\\nopenai\\nhuggingface_hub', metadata={'source': './requirements.txt'})]"
      ]
     },
     "execution_count": 6,
     "metadata": {},
     "output_type": "execute_result"
    }
   ],
   "source": [
    "from langchain.document_loaders import TextLoader\n",
    "loader=TextLoader(\"./requirements.txt\")\n",
    "loader.load()"
   ]
  },
  {
   "cell_type": "markdown",
   "metadata": {},
   "source": [
    "CSV LOADER\n",
    "<!-- it is used to load csv files -->"
   ]
  },
  {
   "cell_type": "code",
   "execution_count": null,
   "metadata": {},
   "outputs": [],
   "source": [
    "from langchain.document_loaders import CSVLoader\n",
    "loader=CSVLoader(file_path='C:\\Users\\LENOVO\\Desktop\\LLMAPP\\venv\\Lib\\site-packages\\langchain\\agents\\agent_toolkits\\csv')\n",
    "data=loader.load()\n",
    "print(data)"
   ]
  },
  {
   "cell_type": "markdown",
   "metadata": {},
   "source": [
    "FILE DIRECTORY LOADER\n",
    "<!-- it includes how to load all documents in a directory -->"
   ]
  },
  {
   "cell_type": "code",
   "execution_count": 15,
   "metadata": {},
   "outputs": [
    {
     "name": "stderr",
     "output_type": "stream",
     "text": [
      "0it [00:00, ?it/s]\n"
     ]
    },
    {
     "data": {
      "text/plain": [
       "0"
      ]
     },
     "execution_count": 15,
     "metadata": {},
     "output_type": "execute_result"
    }
   ],
   "source": [
    "from langchain.document_loaders import DirectoryLoader\n",
    "loader=DirectoryLoader('../',glob=\"Desktop/komal/mern book app/mern-client/node_modules/dlv/README.md\",show_progress=True)\n",
    "docs=loader.load()\n",
    "len(docs)"
   ]
  },
  {
   "cell_type": "markdown",
   "metadata": {},
   "source": [
    "HTML LOADER\n",
    "<!-- used to load html documents -->"
   ]
  },
  {
   "cell_type": "code",
   "execution_count": null,
   "metadata": {},
   "outputs": [],
   "source": [
    "\n",
    "!pip install beautifulsoup4\n",
    "from langchain.document_loaders import BSHTMLLoader\n",
    "loader = BSHTMLLoader(\"C:/Users/LENOVO/videoconferencing app.html\")\n",
    "data=loader.load()\n",
    "data"
   ]
  }
 ],
 "metadata": {
  "kernelspec": {
   "display_name": "Python 3",
   "language": "python",
   "name": "python3"
  },
  "language_info": {
   "codemirror_mode": {
    "name": "ipython",
    "version": 3
   },
   "file_extension": ".py",
   "mimetype": "text/x-python",
   "name": "python",
   "nbconvert_exporter": "python",
   "pygments_lexer": "ipython3",
   "version": "3.9.0"
  }
 },
 "nbformat": 4,
 "nbformat_minor": 2
}
